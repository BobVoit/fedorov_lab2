{
 "cells": [
  {
   "cell_type": "markdown",
   "id": "1dbb277e-41e2-4ef4-8a07-25022940662c",
   "metadata": {},
   "source": [
    "## 15.1"
   ]
  },
  {
   "cell_type": "code",
   "execution_count": 2,
   "id": "48583da2-2708-4e1b-bab4-1314b261936e",
   "metadata": {},
   "outputs": [
    {
     "name": "stdout",
     "output_type": "stream",
     "text": [
      "[[[1.03800476 0.55861082 1.10378283 1.18556721]\n",
      "  [0.79566902 0.32841405 0.76275827 1.05393502]]]\n"
     ]
    }
   ],
   "source": [
    "# Загрузить библиотеки \n",
    "from sklearn import datasets\n",
    "from sklearn.neighbors import NearestNeighbors \n",
    "from sklearn.preprocessing import StandardScaler\n",
    "\n",
    "iris = datasets.load_iris()\n",
    "features = iris.data\n",
    "\n",
    "# print(features)\n",
    "\n",
    "# Создать стандартизатор \n",
    "standardizer = StandardScaler()\n",
    "\n",
    "# Стандартизировать признаки\n",
    "features_standardized = standardizer.fit_transform(features)\n",
    "\n",
    "# Два ближайших соседа \n",
    "nearest_neighbors = NearestNeighbors(n_neighbors=2).fit(features_standardized)\n",
    "\n",
    "# Создать наблюдение \n",
    "new_observation = [ 1, 1, 1, 1]\n",
    "\n",
    "# Найти расстояния и индексы ближайших соседей наблюдения \n",
    "distances, indices = nearest_neighbors.kneighbors([new_observation])\n",
    "\n",
    "print(features_standardized[indices])"
   ]
  },
  {
   "cell_type": "markdown",
   "id": "9f441486-ee9f-4319-9344-2e1447a212fa",
   "metadata": {},
   "source": [
    "## 15.2"
   ]
  },
  {
   "cell_type": "code",
   "execution_count": 3,
   "id": "f31130e4-7896-4deb-b440-922f97d95eb0",
   "metadata": {},
   "outputs": [
    {
     "name": "stdout",
     "output_type": "stream",
     "text": [
      "[1 2]\n"
     ]
    }
   ],
   "source": [
    "# Загрузить библиотеки\n",
    "from sklearn.neighbors import KNeighborsClassifier \n",
    "from sklearn.preprocessing import StandardScaler \n",
    "from sklearn import datasets\n",
    "\n",
    "# Загрузить данные\n",
    "iris = datasets.load_iris()\n",
    "X = iris.data \n",
    "y = iris.target\n",
    "\n",
    "# Создать стандартизатор \n",
    "standardizer = StandardScaler()\n",
    "\n",
    "# Стандартизировать признаки\n",
    "X_std = standardizer.fit_transform(X)\n",
    "\n",
    "# Натренировать классификатор KNN c 5 соседями\n",
    "knn = KNeighborsClassifier(n_neighbors=5, n_jobs=-1).fit(X_std, y)\n",
    "\n",
    "# Создать два наблюдения\n",
    "new_observations = [[ 0.75, 0.75, 0.75, 0.75], [ 1 , 1 , 1 , 1 ] ]\n",
    "\n",
    "# Предсказать класс двух наблюдений \n",
    "print(knn.predict(new_observations))"
   ]
  },
  {
   "cell_type": "markdown",
   "id": "f8c9feab-e14a-4553-bb62-9a55e4cf373b",
   "metadata": {},
   "source": [
    "## Лаб. работа 2"
   ]
  },
  {
   "cell_type": "code",
   "execution_count": 31,
   "id": "94517cef-e7a9-47e8-9888-dac2d24812e2",
   "metadata": {},
   "outputs": [
    {
     "name": "stdout",
     "output_type": "stream",
     "text": [
      "     age  sex  cp  trtbps  chol  fbs  restecg  thalachh  exng  oldpeak  slp  \\\n",
      "0     63    1   3     145   233    1        0       150     0      2.3    0   \n",
      "1     37    1   2     130   250    0        1       187     0      3.5    0   \n",
      "2     41    0   1     130   204    0        0       172     0      1.4    2   \n",
      "3     56    1   1     120   236    0        1       178     0      0.8    2   \n",
      "4     57    0   0     120   354    0        1       163     1      0.6    2   \n",
      "..   ...  ...  ..     ...   ...  ...      ...       ...   ...      ...  ...   \n",
      "298   57    0   0     140   241    0        1       123     1      0.2    1   \n",
      "299   45    1   3     110   264    0        1       132     0      1.2    1   \n",
      "300   68    1   0     144   193    1        1       141     0      3.4    1   \n",
      "301   57    1   0     130   131    0        1       115     1      1.2    1   \n",
      "302   57    0   1     130   236    0        0       174     0      0.0    1   \n",
      "\n",
      "     caa  thall  \n",
      "0      0      1  \n",
      "1      0      2  \n",
      "2      0      2  \n",
      "3      0      2  \n",
      "4      0      2  \n",
      "..   ...    ...  \n",
      "298    0      3  \n",
      "299    0      3  \n",
      "300    2      3  \n",
      "301    1      3  \n",
      "302    1      2  \n",
      "\n",
      "[303 rows x 13 columns]\n",
      "     output\n",
      "0         1\n",
      "1         1\n",
      "2         1\n",
      "3         1\n",
      "4         1\n",
      "..      ...\n",
      "298       0\n",
      "299       0\n",
      "300       0\n",
      "301       0\n",
      "302       0\n",
      "\n",
      "[303 rows x 1 columns]\n"
     ]
    },
    {
     "name": "stderr",
     "output_type": "stream",
     "text": [
      "C:\\Users\\danil\\AppData\\Local\\Programs\\Python\\Python311\\Lib\\site-packages\\sklearn\\base.py:457: UserWarning: X has feature names, but KNeighborsClassifier was fitted without feature names\n",
      "  warnings.warn(\n"
     ]
    },
    {
     "name": "stdout",
     "output_type": "stream",
     "text": [
      "3. Перекрестная проверка: 0.8154838709677421\n",
      "Точность: [0.60655738 0.6557377  0.57377049 0.73333333 0.65      ]\n",
      "Полнота: [0.66666667 0.72727273 0.6969697  0.78787879 0.72727273]\n",
      "Прецизионность: [0.62857143 0.66666667 0.58974359 0.74285714 0.66666667]\n",
      "AUC: 0.4843214756258235\n"
     ]
    },
    {
     "data": {
      "image/png": "[encoded data removed]",
      "text/plain": [
       "<Figure size 640x480 with 1 Axes>"
      ]
     },
     "metadata": {},
     "output_type": "display_data"
    }
   ],
   "source": [
    "import pandas as pd\n",
    "from sklearn.linear_model import LogisticRegression \n",
    "from sklearn.preprocessing import StandardScaler\n",
    "from sklearn.neighbors import NearestNeighbors \n",
    "from sklearn.model_selection import KFold, cross_val_score \n",
    "from sklearn.pipeline import make_pipeline \n",
    "import matplotlib.pyplot as plt \n",
    "from sklearn.metrics import roc_curve, roc_auc_score \n",
    "from sklearn.model_selection import train_test_split\n",
    "\n",
    "dataframe = pd.read_csv(\"heart.csv\")\n",
    "\n",
    "na_number = dataframe.isna().sum()\n",
    "\n",
    "features = dataframe.iloc[:,:13]\n",
    "target = dataframe.iloc[:,-1:]\n",
    "\n",
    "print(features)\n",
    "print(target)\n",
    "\n",
    "scaler = StandardScaler()\n",
    "features_standardized = scaler.fit_transform(features)\n",
    "logit = LogisticRegression(random_state=0, solver='lbfgs', max_iter=1000)\n",
    "logit.fit(features_standardized, target.values.ravel())\n",
    " \n",
    "scaler = StandardScaler()\n",
    "X_std = scaler.fit_transform(features)\n",
    "knn = KNeighborsClassifier(n_neighbors=5, n_jobs=-1).fit(X_std, target)\n",
    "\n",
    "model = knn\n",
    "\n",
    "# print(\"2. Модель:\", logit)\n",
    "# print(logit)\n",
    "\n",
    "pipeline = make_pipeline(scaler, model)\n",
    "kf = KFold(n_splits=10, shuffle=True, random_state=1)\n",
    "\n",
    "cv_results = cross_val_score(pipeline, # Конвейер\n",
    "    features, # Матрица признаков\n",
    "    target.values.ravel(), # Вектор целей\n",
    "    cv=kf, # Метод перекрестной проверки\n",
    "    scoring=\"accuracy\", # Функция потери\n",
    "    n_jobs=-1\n",
    ") # Использовать все ядра CPU\n",
    "\n",
    "# Вычислить среднее значение \n",
    "# print(f\"3. Перекрестная проверка: {cv_results.mean()}\")\n",
    "\n",
    "target_probabilities = model.predict_proba(features)[:,1]\n",
    "\n",
    "false_positive_rate, true_positive_rate, threshold = roc_curve(target, target_probabilities)\n",
    "auc = roc_auc_score(target, target_probabilities)\n",
    "\n",
    "accuracy = cross_val_score(model, features.values, target.values.ravel(), scoring=\"accuracy\")\n",
    "precision = cross_val_score(model, features, target.values.ravel(), scoring=\"precision\")\n",
    "recall = cross_val_score(model, features, target.values.ravel(), scoring=\"recall\")\n",
    "print(f\"3. Перекрестная проверка: {cv_results.mean()}\")\n",
    "print(f\"Точность: {accuracy}\")\n",
    "print(f\"Полнота: {recall}\")\n",
    "print(f\"Прецизионность: {precision}\")\n",
    "print(f\"AUC: {auc}\")\n",
    "\n",
    "# Построить график кривой ROC \n",
    "plt.title(\"Кривая ROC\")\n",
    "plt.plot(false_positive_rate, true_positive_rate)\n",
    "plt.plot([0, 1], ls=\"--\")\n",
    "plt.plot([0, 0], [1, 0] , c=\".7\")\n",
    "plt.plot([1, 1] , c=\".7\")\n",
    "plt.ylabel(\"Доля истинноположительных исходов\") \n",
    "plt.xlabel(\"Доля ложноположительных исходов\") \n",
    "plt.show()"
   ]
  },
  {
   "cell_type": "code",
   "execution_count": null,
   "id": "6e7a9022-8181-4dca-863c-4aee4631c2b1",
   "metadata": {},
   "outputs": [],
   "source": []
  }
 ],
 "metadata": {
  "kernelspec": {
   "display_name": "Python 3 (ipykernel)",
   "language": "python",
   "name": "python3"
  },
  "language_info": {
   "codemirror_mode": {
    "name": "ipython",
    "version": 3
   },
   "file_extension": ".py",
   "mimetype": "text/x-python",
   "name": "python",
   "nbconvert_exporter": "python",
   "pygments_lexer": "ipython3",
   "version": "3.11.5"
  }
 },
 "nbformat": 4,
 "nbformat_minor": 5
}
